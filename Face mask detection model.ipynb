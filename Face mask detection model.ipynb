{
 "cells": [
  {
   "cell_type": "code",
   "execution_count": 1,
   "id": "0912bda2",
   "metadata": {},
   "outputs": [],
   "source": [
    "import os\n",
    "import numpy as np\n",
    "import pandas as pd\n",
    "import matplotlib.pyplot as plt\n",
    "import matplotlib.image as mpimg\n",
    "import cv2\n",
    "from cv2 import imshow\n",
    "from PIL import  Image"
   ]
  },
  {
   "cell_type": "markdown",
   "id": "7ac8b4eb",
   "metadata": {},
   "source": [
    "## Now we will work with the file-names and make lists of them"
   ]
  },
  {
   "cell_type": "code",
   "execution_count": 2,
   "id": "c5d8f4f0",
   "metadata": {},
   "outputs": [],
   "source": [
    "with_mask_files = os.listdir('data/with_mask')"
   ]
  },
  {
   "cell_type": "code",
   "execution_count": 3,
   "id": "a7265dab",
   "metadata": {},
   "outputs": [
    {
     "name": "stdout",
     "output_type": "stream",
     "text": [
      "['with_mask_1.jpg', 'with_mask_10.jpg', 'with_mask_100.jpg', 'with_mask_1000.jpg', 'with_mask_1001.jpg']\n"
     ]
    }
   ],
   "source": [
    "print(with_mask_files[0:5])"
   ]
  },
  {
   "cell_type": "code",
   "execution_count": 4,
   "id": "e14e17e6",
   "metadata": {},
   "outputs": [],
   "source": [
    "without_mask_files= os.listdir('data/without_mask')"
   ]
  },
  {
   "cell_type": "code",
   "execution_count": 5,
   "id": "f47da5a8",
   "metadata": {},
   "outputs": [
    {
     "name": "stdout",
     "output_type": "stream",
     "text": [
      "['without_mask_1.jpg', 'without_mask_10.jpg', 'without_mask_100.jpg', 'without_mask_1000.jpg', 'without_mask_1001.jpg']\n"
     ]
    }
   ],
   "source": [
    "print(without_mask_files[0:5])"
   ]
  },
  {
   "cell_type": "code",
   "execution_count": 6,
   "id": "14a46308",
   "metadata": {},
   "outputs": [
    {
     "name": "stdout",
     "output_type": "stream",
     "text": [
      "3725\n",
      "3828\n"
     ]
    }
   ],
   "source": [
    "print(len(with_mask_files))\n",
    "print(len(without_mask_files))"
   ]
  },
  {
   "cell_type": "markdown",
   "id": "e89e3b62",
   "metadata": {},
   "source": [
    "## Creating labels:\n",
    "## with mask --> 1            without mask --> 0"
   ]
  },
  {
   "cell_type": "code",
   "execution_count": 7,
   "id": "633570f7",
   "metadata": {},
   "outputs": [],
   "source": [
    "with_mask_labels = [1]*3725\n",
    "without_mask_labels = [0]*3828"
   ]
  },
  {
   "cell_type": "code",
   "execution_count": 8,
   "id": "3ab28e9f",
   "metadata": {},
   "outputs": [
    {
     "name": "stdout",
     "output_type": "stream",
     "text": [
      "[1, 1, 1, 1, 1]\n",
      "[0, 0, 0, 0, 0]\n"
     ]
    }
   ],
   "source": [
    "print(with_mask_labels[0:5])\n",
    "print(without_mask_labels[0:5])"
   ]
  },
  {
   "cell_type": "code",
   "execution_count": 9,
   "id": "5b31e5d0",
   "metadata": {},
   "outputs": [],
   "source": [
    "labels = with_mask_labels + without_mask_labels"
   ]
  },
  {
   "cell_type": "code",
   "execution_count": 10,
   "id": "3e5675fc",
   "metadata": {},
   "outputs": [
    {
     "name": "stdout",
     "output_type": "stream",
     "text": [
      "[1, 1, 1, 1, 1]\n"
     ]
    }
   ],
   "source": [
    "print(labels[0:5])"
   ]
  },
  {
   "cell_type": "code",
   "execution_count": 11,
   "id": "1923795b",
   "metadata": {},
   "outputs": [
    {
     "name": "stdout",
     "output_type": "stream",
     "text": [
      "[0, 0, 0, 0, 0]\n"
     ]
    }
   ],
   "source": [
    "print(labels[-5:])"
   ]
  },
  {
   "cell_type": "markdown",
   "id": "eac99d28",
   "metadata": {},
   "source": [
    "## Image Processing:\n",
    "\n",
    "## 1. Resize the images\n",
    "## 2. Convert the images to numpy arrays"
   ]
  },
  {
   "cell_type": "code",
   "execution_count": 12,
   "id": "d9b0b355",
   "metadata": {},
   "outputs": [
    {
     "name": "stderr",
     "output_type": "stream",
     "text": [
      "C:\\Python 310\\lib\\site-packages\\PIL\\Image.py:979: UserWarning: Palette images with Transparency expressed in bytes should be converted to RGBA images\n",
      "  warnings.warn(\n"
     ]
    }
   ],
   "source": [
    "with_mask_path = 'data/with_mask/'\n",
    "data=[]\n",
    "for img in with_mask_files:\n",
    "    image = Image.open(with_mask_path + img)\n",
    "    image = image.resize((128,128))\n",
    "    image = image.convert('RGB')\n",
    "    image = np.array(image)\n",
    "    data.append(image)\n",
    "    \n",
    "without_mask_path = 'data/without_mask/'\n",
    "for img in without_mask_files:\n",
    "    image = Image.open(without_mask_path + img)\n",
    "    image = image.resize((128,128))\n",
    "    image = image.convert('RGB')\n",
    "    image = np.array(image)\n",
    "    data.append(image)"
   ]
  },
  {
   "cell_type": "code",
   "execution_count": 13,
   "id": "12f83aa7",
   "metadata": {},
   "outputs": [
    {
     "data": {
      "text/plain": [
       "7553"
      ]
     },
     "execution_count": 13,
     "metadata": {},
     "output_type": "execute_result"
    }
   ],
   "source": [
    "len(data)"
   ]
  },
  {
   "cell_type": "code",
   "execution_count": 14,
   "id": "af9ec5ca",
   "metadata": {},
   "outputs": [
    {
     "data": {
      "text/plain": [
       "list"
      ]
     },
     "execution_count": 14,
     "metadata": {},
     "output_type": "execute_result"
    }
   ],
   "source": [
    "type(data)"
   ]
  },
  {
   "cell_type": "code",
   "execution_count": 15,
   "id": "e46ae99f",
   "metadata": {},
   "outputs": [
    {
     "data": {
      "text/plain": [
       "array([[[50, 58, 31],\n",
       "        [46, 55, 33],\n",
       "        [56, 58, 42],\n",
       "        ...,\n",
       "        [27, 32, 25],\n",
       "        [29, 33, 19],\n",
       "        [33, 40, 17]],\n",
       "\n",
       "       [[47, 54, 30],\n",
       "        [49, 58, 36],\n",
       "        [59, 63, 40],\n",
       "        ...,\n",
       "        [18, 21, 11],\n",
       "        [37, 42, 31],\n",
       "        [31, 41, 23]],\n",
       "\n",
       "       [[51, 58, 37],\n",
       "        [50, 59, 37],\n",
       "        [59, 64, 37],\n",
       "        ...,\n",
       "        [45, 44, 30],\n",
       "        [29, 34, 27],\n",
       "        [20, 30, 18]],\n",
       "\n",
       "       ...,\n",
       "\n",
       "       [[63, 73, 37],\n",
       "        [66, 75, 41],\n",
       "        [74, 84, 50],\n",
       "        ...,\n",
       "        [ 5,  3,  0],\n",
       "        [20, 19, 14],\n",
       "        [17, 16, 12]],\n",
       "\n",
       "       [[58, 72, 34],\n",
       "        [60, 70, 39],\n",
       "        [68, 75, 49],\n",
       "        ...,\n",
       "        [16, 15, 12],\n",
       "        [15, 13, 10],\n",
       "        [13,  9,  7]],\n",
       "\n",
       "       [[53, 69, 30],\n",
       "        [53, 64, 37],\n",
       "        [57, 64, 42],\n",
       "        ...,\n",
       "        [18, 18, 16],\n",
       "        [16, 13, 12],\n",
       "        [19, 12, 13]]], dtype=uint8)"
      ]
     },
     "execution_count": 15,
     "metadata": {},
     "output_type": "execute_result"
    }
   ],
   "source": [
    "data[0]"
   ]
  },
  {
   "cell_type": "code",
   "execution_count": 16,
   "id": "566ed6ae",
   "metadata": {},
   "outputs": [
    {
     "data": {
      "text/plain": [
       "(128, 128, 3)"
      ]
     },
     "execution_count": 16,
     "metadata": {},
     "output_type": "execute_result"
    }
   ],
   "source": [
    "data[0].shape"
   ]
  },
  {
   "cell_type": "markdown",
   "id": "d22dd751",
   "metadata": {},
   "source": [
    "## Creating the model"
   ]
  },
  {
   "cell_type": "code",
   "execution_count": 17,
   "id": "fb5f86b2",
   "metadata": {},
   "outputs": [],
   "source": [
    "x = np.array(data)\n",
    "y = np.array(labels)"
   ]
  },
  {
   "cell_type": "code",
   "execution_count": 18,
   "id": "d1234d2a",
   "metadata": {},
   "outputs": [
    {
     "name": "stdout",
     "output_type": "stream",
     "text": [
      "(7553, 128, 128, 3)\n",
      "(7553,)\n"
     ]
    }
   ],
   "source": [
    "print(x.shape)\n",
    "print(y.shape)"
   ]
  },
  {
   "cell_type": "code",
   "execution_count": 19,
   "id": "478daa28",
   "metadata": {},
   "outputs": [],
   "source": [
    "from sklearn.model_selection import train_test_split"
   ]
  },
  {
   "cell_type": "code",
   "execution_count": 20,
   "id": "1b1b3154",
   "metadata": {},
   "outputs": [],
   "source": [
    " x_train, x_test, y_train, y_test = train_test_split(x, y, test_size=0.20, random_state=42)"
   ]
  },
  {
   "cell_type": "code",
   "execution_count": 21,
   "id": "46398c02",
   "metadata": {},
   "outputs": [],
   "source": [
    "x_train_scaled = x_train/255"
   ]
  },
  {
   "cell_type": "code",
   "execution_count": 22,
   "id": "960cd6f9",
   "metadata": {},
   "outputs": [],
   "source": [
    "x_test_scaled = x_test/255"
   ]
  },
  {
   "cell_type": "markdown",
   "id": "e66d26f4",
   "metadata": {},
   "source": [
    "## Building CNN"
   ]
  },
  {
   "cell_type": "code",
   "execution_count": 23,
   "id": "ff9e84c6",
   "metadata": {},
   "outputs": [],
   "source": [
    "import tensorflow as tf\n",
    "from tensorflow import keras"
   ]
  },
  {
   "cell_type": "code",
   "execution_count": 24,
   "id": "323a3cd5",
   "metadata": {},
   "outputs": [],
   "source": [
    "num_of_classes = 2\n",
    "\n",
    "model = keras.Sequential()\n",
    "\n",
    "model.add(keras.layers.Conv2D(32, kernel_size=(3,3), activation='relu', input_shape=(128,128,3)))\n",
    "model.add(keras.layers.MaxPooling2D(pool_size=(2,2)))\n",
    "\n",
    "model.add(keras.layers.Conv2D(64, kernel_size=(3,3), activation='relu'))\n",
    "model.add(keras.layers.MaxPooling2D(pool_size=(2,2)))\n",
    "\n",
    "model.add(keras.layers.Flatten())\n",
    "\n",
    "model.add(keras.layers.Dense(128, activation='relu'))\n",
    "model.add(keras.layers.Dropout(0.5))\n",
    "\n",
    "model.add(keras.layers.Dense(64, activation='relu'))\n",
    "model.add(keras.layers.Dropout(0.5))\n",
    "\n",
    "model.add(keras.layers.Dense(num_of_classes, activation='sigmoid'))"
   ]
  },
  {
   "cell_type": "code",
   "execution_count": 25,
   "id": "68ae5746",
   "metadata": {},
   "outputs": [],
   "source": [
    "# compile the neural network\n",
    "model.compile(optimizer='adam',\n",
    "              loss='sparse_categorical_crossentropy',\n",
    "              metrics=['acc'])"
   ]
  },
  {
   "cell_type": "code",
   "execution_count": 26,
   "id": "3aec7383",
   "metadata": {},
   "outputs": [
    {
     "name": "stdout",
     "output_type": "stream",
     "text": [
      "Epoch 1/5\n",
      "170/170 [==============================] - 145s 849ms/step - loss: 0.5019 - acc: 0.7694 - val_loss: 0.2552 - val_acc: 0.8876\n",
      "Epoch 2/5\n",
      "170/170 [==============================] - 137s 803ms/step - loss: 0.2971 - acc: 0.8882 - val_loss: 0.1776 - val_acc: 0.9207\n",
      "Epoch 3/5\n",
      "170/170 [==============================] - 134s 791ms/step - loss: 0.2306 - acc: 0.9097 - val_loss: 0.1737 - val_acc: 0.9355\n",
      "Epoch 4/5\n",
      "170/170 [==============================] - 135s 797ms/step - loss: 0.1961 - acc: 0.9240 - val_loss: 0.1364 - val_acc: 0.9504\n",
      "Epoch 5/5\n",
      "170/170 [==============================] - 136s 800ms/step - loss: 0.1678 - acc: 0.9367 - val_loss: 0.1493 - val_acc: 0.9405\n"
     ]
    }
   ],
   "source": [
    "# training the neural network\n",
    "history = model.fit(x_train_scaled, y_train, validation_split=0.1, epochs=5)"
   ]
  },
  {
   "cell_type": "code",
   "execution_count": 27,
   "id": "5a38abfc",
   "metadata": {},
   "outputs": [
    {
     "name": "stdout",
     "output_type": "stream",
     "text": [
      "48/48 [==============================] - 9s 190ms/step - loss: 0.2142 - acc: 0.9338\n",
      "Test Accuracy = 0.9338186383247375\n"
     ]
    }
   ],
   "source": [
    "## model evaluation\n",
    "\n",
    "loss, accuracy = model.evaluate(x_test_scaled, y_test)\n",
    "print('Test Accuracy =', accuracy)"
   ]
  },
  {
   "cell_type": "code",
   "execution_count": 28,
   "id": "a96ed1b6",
   "metadata": {},
   "outputs": [
    {
     "data": {
      "image/png": "[encoded data removed]",
      "text/plain": [
       "<Figure size 640x480 with 1 Axes>"
      ]
     },
     "metadata": {},
     "output_type": "display_data"
    },
    {
     "data": {
      "image/png": "[encoded data removed]",
      "text/plain": [
       "<Figure size 640x480 with 1 Axes>"
      ]
     },
     "metadata": {},
     "output_type": "display_data"
    }
   ],
   "source": [
    "h = history\n",
    "\n",
    "# plot the loss value\n",
    "plt.plot(h.history['loss'], label='train loss')\n",
    "plt.plot(h.history['val_loss'], label='validation loss')\n",
    "plt.legend()\n",
    "plt.show()\n",
    "\n",
    "# plot the accuracy value\n",
    "plt.plot(h.history['acc'], label='train accuracy')\n",
    "plt.plot(h.history['val_acc'], label='validation accuracy')\n",
    "plt.legend()\n",
    "plt.show()"
   ]
  },
  {
   "cell_type": "code",
   "execution_count": 30,
   "id": "28ce2e90",
   "metadata": {},
   "outputs": [],
   "source": [
    "import pickle\n",
    "pickle.dump(model, open('model.pkl','wb'))"
   ]
  },
  {
   "cell_type": "code",
   "execution_count": null,
   "id": "9ef10dc8",
   "metadata": {},
   "outputs": [],
   "source": []
  }
 ],
 "metadata": {
  "kernelspec": {
   "display_name": "Python 3 (ipykernel)",
   "language": "python",
   "name": "python3"
  },
  "language_info": {
   "codemirror_mode": {
    "name": "ipython",
    "version": 3
   },
   "file_extension": ".py",
   "mimetype": "text/x-python",
   "name": "python",
   "nbconvert_exporter": "python",
   "pygments_lexer": "ipython3",
   "version": "3.10.0"
  }
 },
 "nbformat": 4,
 "nbformat_minor": 5
}
